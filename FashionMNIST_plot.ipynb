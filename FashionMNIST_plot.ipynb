{
  "nbformat": 4,
  "nbformat_minor": 0,
  "metadata": {
    "colab": {
      "provenance": [],
      "mount_file_id": "1fxPTiPX76EcAnav41CLNiuqJeH5hVewR",
      "authorship_tag": "ABX9TyPfAg9o09pUPUTLCNGgXLjn",
      "include_colab_link": true
    },
    "kernelspec": {
      "name": "python3",
      "display_name": "Python 3"
    },
    "language_info": {
      "name": "python"
    },
    "accelerator": "GPU"
  },
  "cells": [
    {
      "cell_type": "markdown",
      "metadata": {
        "id": "view-in-github",
        "colab_type": "text"
      },
      "source": [
        "<a href=\"https://colab.research.google.com/github/monjjjjj/Multi-Label_Fashion-MNIST/blob/main/FashionMNIST_plot.ipynb\" target=\"_parent\"><img src=\"https://colab.research.google.com/assets/colab-badge.svg\" alt=\"Open In Colab\"/></a>"
      ]
    },
    {
      "cell_type": "code",
      "source": [
        "from google.colab import drive\n",
        "\n",
        "from __future__ import print_function\n",
        "\n",
        "from keras.datasets import fashion_mnist\n",
        "\n",
        "import matplotlib.pyplot as plt\n",
        "import pandas as pd\n",
        "import numpy as np"
      ],
      "metadata": {
        "id": "q4cjIoTIxPOT"
      },
      "execution_count": null,
      "outputs": []
    },
    {
      "cell_type": "code",
      "source": [
        "# google drive mounted\n",
        "drive.mount('/content/drive')"
      ],
      "metadata": {
        "id": "m2Samgv8B9Io"
      },
      "execution_count": null,
      "outputs": []
    },
    {
      "cell_type": "code",
      "source": [
        "# load data\n",
        "(X_train, y_train), (X_test, y_test) = fashion_mnist.load_data()\n",
        "\n",
        "fashion_name = ['T-shirt/top',\n",
        "                'Trouser',\n",
        "                'Pullover',\n",
        "                'Dress',\n",
        "                'Coat',\n",
        "                'Sandal',\n",
        "                'Shirt',\n",
        "                'Sneaker',\n",
        "                'Bag',\n",
        "                'Ankle boot']"
      ],
      "metadata": {
        "id": "hK0_13KUCClf"
      },
      "execution_count": null,
      "outputs": []
    },
    {
      "cell_type": "code",
      "execution_count": null,
      "metadata": {
        "id": "bgVFI8NPyNtO"
      },
      "outputs": [],
      "source": [
        "# plot multi-label images\n",
        "labels = pd.DataFrame(columns=['index','fname','label', 'real_int', 'real_str'])\n",
        "\n",
        "for i in range(0, 10000):\n",
        "    fig = plt.figure(facecolor='white')\n",
        "    \n",
        "    labels_in_picture = [0] * 10\n",
        "    # print(labels_in_picture)\n",
        "    \n",
        "    real_int = ''\n",
        "    real_str = ''\n",
        "    for j in range(1, 5):\n",
        "        ax = plt.subplot(1, 4, j)\n",
        "        ax.set_axis_off()\n",
        "        idx = np.random.randint(0, 1000)\n",
        "        plt.imshow(X_train[idx],   cmap=plt.get_cmap('binary'))\n",
        "        labels_in_picture[y_train[idx]] = 1\n",
        "        \n",
        "        real_int += str(y_train[idx])\n",
        "        if j != 4:\n",
        "            real_int += ', '\n",
        "            \n",
        "        real_str += str(fashion_name[y_train[idx]])\n",
        "        if j != 4:\n",
        "            real_str += ', '\n",
        "        \n",
        "    print(labels_in_picture)\n",
        "    \n",
        "    fig.subplots_adjust(wspace=0, hspace=0)\n",
        "    \n",
        "    fname = \"%d\"%i + \".png\"\n",
        "    plt.savefig('/content/drive/MyDrive/FashionMNIST/testing/{}'.format(fname), bbox_inches='tight', pad_inches=0)\n",
        "    plt.clf()\n",
        "    \n",
        "    # plt.show()\n",
        "    \n",
        "    labels = labels.append({\"index\": i,\n",
        "                            \"fname\":  fname,\n",
        "                            \"label\": labels_in_picture,\n",
        "                            \"real_int\": real_int,\n",
        "                            \"real_str\": real_str\n",
        "                            }, ignore_index=True)\n",
        "                                \n",
        "labels.to_csv(\"labels.csv\", index=False)"
      ]
    },
    {
      "cell_type": "code",
      "source": [
        "!cp labels.csv drive/My\\ Drive/"
      ],
      "metadata": {
        "id": "VS0OoPxJDgc2"
      },
      "execution_count": null,
      "outputs": []
    }
  ]
}